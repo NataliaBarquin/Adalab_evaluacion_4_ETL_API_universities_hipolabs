{
 "cells": [
  {
   "cell_type": "code",
   "execution_count": null,
   "metadata": {},
   "outputs": [],
   "source": [
    "import requests\n",
    "import pandas as pd\n",
    "import numpy as np\n",
    "import sidetable\n",
    "from geopy.geocoders import Nominatim\n",
    "import mysql.connector\n",
    "\n",
    "import warnings\n",
    "warnings.filterwarnings('ignore')\n",
    "\n",
    "from IPython.core.interactiveshell import InteractiveShell\n",
    "InteractiveShell.ast_node_interactivity = \"all\" \n",
    "\n",
    "import os\n",
    "from dotenv import load_dotenv\n",
    "load_dotenv()"
   ]
  },
  {
   "cell_type": "code",
   "execution_count": null,
   "metadata": {},
   "outputs": [],
   "source": [
    "class Extracción_limpieza:\n",
    "\n",
    "    def __init__()\n",
    "\n",
    "    def extraccion_df_api():\n",
    "\n",
    "        \"\"\"\n",
    "        Crea una lista con los 3 países que queremos estudiar y realiza la llamada a la API y extracción de datos de la misma para cada uno de los países.\n",
    "        Después crea un dataframe con los datos de cada país y los unifica en un único dataframe.\n",
    "\n",
    "        Args:\n",
    "            No recibe.\n",
    "            \n",
    "        Returns:\n",
    "            df: dataframe unido con los datos de los 3 países.\n",
    "        \"\"\"\n",
    "\n",
    "        lista_paises = ['United States', 'Canada' , 'Argentina']\n",
    "\n",
    "        df_unido = pd.DataFrame()\n",
    "\n",
    "        for pais in lista_paises:\n",
    "\n",
    "            url = f'http://universities.hipolabs.com/search?country={pais}'\n",
    "\n",
    "            response = requests.get(url=url)\n",
    "\n",
    "            response.status_code\n",
    "\n",
    "            response.reason\n",
    "            \n",
    "            df = pd.json_normalize(response.json())\n",
    "\n",
    "            df_unido = pd.concat([df_unido, df], ignore_index = True)\n",
    "        \n",
    "        return df_unido\n",
    "    \n",
    "\n",
    "\n",
    "\n",
    "\n",
    "\n",
    "    def limpieza_df_api(df, col1, col2):\n",
    "\n",
    "    df.rename(columns = {col: col.replace('-', '_') for col in df.columns}, inplace = True)\n",
    "\n",
    "    df.drop(col1, axis = 1, inplace = True)\n",
    "\n",
    "    df_final = df.explode(col2, ignore_index= True)\n",
    "\n",
    "    return df_final"
   ]
  },
  {
   "cell_type": "code",
   "execution_count": null,
   "metadata": {},
   "outputs": [],
   "source": [
    "class Carga:"
   ]
  }
 ],
 "metadata": {
  "language_info": {
   "name": "python"
  },
  "orig_nbformat": 4
 },
 "nbformat": 4,
 "nbformat_minor": 2
}
