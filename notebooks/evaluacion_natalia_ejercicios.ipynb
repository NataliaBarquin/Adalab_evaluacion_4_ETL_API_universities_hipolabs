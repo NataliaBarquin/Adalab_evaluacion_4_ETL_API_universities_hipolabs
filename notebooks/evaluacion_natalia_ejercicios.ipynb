{
 "cells": [
  {
   "cell_type": "markdown",
   "metadata": {},
   "source": [
    "### EVALUACIÓN API NATALIA BARQUÍN\n",
    "\n",
    "----------------"
   ]
  },
  {
   "cell_type": "code",
   "execution_count": 1,
   "metadata": {},
   "outputs": [
    {
     "data": {
      "text/plain": [
       "True"
      ]
     },
     "execution_count": 1,
     "metadata": {},
     "output_type": "execute_result"
    }
   ],
   "source": [
    "import requests\n",
    "import pandas as pd\n",
    "import numpy as np\n",
    "import sidetable\n",
    "\n",
    "from geopy.geocoders import Nominatim\n",
    "\n",
    "import mysql.connector\n",
    "\n",
    "import os\n",
    "from dotenv import load_dotenv\n",
    "load_dotenv()"
   ]
  },
  {
   "cell_type": "markdown",
   "metadata": {},
   "source": [
    "1. Utilizando la API extraed toda la información que podáis de ella."
   ]
  },
  {
   "cell_type": "code",
   "execution_count": 2,
   "metadata": {},
   "outputs": [],
   "source": [
    "def extraer_df_api():\n",
    "\n",
    "    \"\"\"\n",
    "    Crea una lista con los 3 países que queremos estudiar y realiza la llamada a la API y extracción de datos de la misma para cada uno de los países.\n",
    "    Después crea un dataframe con los datos de cada país y los unifica en un único dataframe.\n",
    "\n",
    "    Args:\n",
    "        No recibe.\n",
    "        \n",
    "    Returns:\n",
    "        df: dataframe unido con los datos de los 3 países.\n",
    "    \"\"\"\n",
    "\n",
    "    lista_paises = ['United States', 'Canada' , 'Argentina']\n",
    "\n",
    "    df_unido = pd.DataFrame()\n",
    "\n",
    "    for pais in lista_paises:\n",
    "\n",
    "        url = f'http://universities.hipolabs.com/search?country={pais}'\n",
    "\n",
    "        response = requests.get(url=url)\n",
    "\n",
    "        response.status_code\n",
    "\n",
    "        response.reason\n",
    "        \n",
    "        df = pd.json_normalize(response.json())\n",
    "\n",
    "        df_unido = pd.concat([df_unido, df], ignore_index = True)\n",
    "    \n",
    "    return df_unido"
   ]
  },
  {
   "cell_type": "code",
   "execution_count": 3,
   "metadata": {},
   "outputs": [
    {
     "data": {
      "text/html": [
       "<div>\n",
       "<style scoped>\n",
       "    .dataframe tbody tr th:only-of-type {\n",
       "        vertical-align: middle;\n",
       "    }\n",
       "\n",
       "    .dataframe tbody tr th {\n",
       "        vertical-align: top;\n",
       "    }\n",
       "\n",
       "    .dataframe thead th {\n",
       "        text-align: right;\n",
       "    }\n",
       "</style>\n",
       "<table border=\"1\" class=\"dataframe\">\n",
       "  <thead>\n",
       "    <tr style=\"text-align: right;\">\n",
       "      <th></th>\n",
       "      <th>state-province</th>\n",
       "      <th>country</th>\n",
       "      <th>domains</th>\n",
       "      <th>web_pages</th>\n",
       "      <th>alpha_two_code</th>\n",
       "      <th>name</th>\n",
       "    </tr>\n",
       "  </thead>\n",
       "  <tbody>\n",
       "    <tr>\n",
       "      <th>0</th>\n",
       "      <td>None</td>\n",
       "      <td>United States</td>\n",
       "      <td>[marywood.edu]</td>\n",
       "      <td>[http://www.marywood.edu]</td>\n",
       "      <td>US</td>\n",
       "      <td>Marywood University</td>\n",
       "    </tr>\n",
       "    <tr>\n",
       "      <th>1</th>\n",
       "      <td>None</td>\n",
       "      <td>United States</td>\n",
       "      <td>[lindenwood.edu]</td>\n",
       "      <td>[http://www.lindenwood.edu/]</td>\n",
       "      <td>US</td>\n",
       "      <td>Lindenwood University</td>\n",
       "    </tr>\n",
       "    <tr>\n",
       "      <th>2</th>\n",
       "      <td>None</td>\n",
       "      <td>United States</td>\n",
       "      <td>[sullivan.edu]</td>\n",
       "      <td>[https://sullivan.edu/]</td>\n",
       "      <td>US</td>\n",
       "      <td>Sullivan University</td>\n",
       "    </tr>\n",
       "    <tr>\n",
       "      <th>3</th>\n",
       "      <td>None</td>\n",
       "      <td>United States</td>\n",
       "      <td>[fscj.edu]</td>\n",
       "      <td>[https://www.fscj.edu/]</td>\n",
       "      <td>US</td>\n",
       "      <td>Florida State College at Jacksonville</td>\n",
       "    </tr>\n",
       "    <tr>\n",
       "      <th>4</th>\n",
       "      <td>None</td>\n",
       "      <td>United States</td>\n",
       "      <td>[xavier.edu]</td>\n",
       "      <td>[https://www.xavier.edu/]</td>\n",
       "      <td>US</td>\n",
       "      <td>Xavier University</td>\n",
       "    </tr>\n",
       "  </tbody>\n",
       "</table>\n",
       "</div>"
      ],
      "text/plain": [
       "  state-province        country           domains  \\\n",
       "0           None  United States    [marywood.edu]   \n",
       "1           None  United States  [lindenwood.edu]   \n",
       "2           None  United States    [sullivan.edu]   \n",
       "3           None  United States        [fscj.edu]   \n",
       "4           None  United States      [xavier.edu]   \n",
       "\n",
       "                      web_pages alpha_two_code  \\\n",
       "0     [http://www.marywood.edu]             US   \n",
       "1  [http://www.lindenwood.edu/]             US   \n",
       "2       [https://sullivan.edu/]             US   \n",
       "3       [https://www.fscj.edu/]             US   \n",
       "4     [https://www.xavier.edu/]             US   \n",
       "\n",
       "                                    name  \n",
       "0                    Marywood University  \n",
       "1                  Lindenwood University  \n",
       "2                    Sullivan University  \n",
       "3  Florida State College at Jacksonville  \n",
       "4                      Xavier University  "
      ]
     },
     "execution_count": 3,
     "metadata": {},
     "output_type": "execute_result"
    }
   ],
   "source": [
    "df_universidades = extraer_df_api()\n",
    "df_universidades.head()"
   ]
  },
  {
   "cell_type": "markdown",
   "metadata": {},
   "source": [
    "2. Una vez tengáis todos los datos de la API, deberéis realizar una serie de procesos de limpieza, estos incluyen:\n",
    "\n",
    "- Cambiad los nombres de las columnas para homogeneizarlas, tenemos columnas que tienen - y otras _. Unifícalo para que todo vaya con _.\n",
    "\n",
    "- La columna de domains nos da una información similar a la de web_pages. Eliminad la columna domains."
   ]
  },
  {
   "cell_type": "code",
   "execution_count": 4,
   "metadata": {},
   "outputs": [],
   "source": [
    "def homogeneizar_columnas(df, col):\n",
    "\n",
    "    \"\"\"Reemplaza los guiones de los nombres de las columnas del dataframe por barra baja.\n",
    "        Elimina columnas redundantes.\n",
    "    Args:\n",
    "        df: dataframe original.\n",
    "        col: columna redundante\n",
    "    Returns:\n",
    "        df: dataframe modificado.\n",
    "    \"\"\"\n",
    "    \n",
    "    df.rename(columns = {col: col.replace('-', '_') for col in df.columns}, inplace = True)\n",
    "    df.drop(col, axis = 1, inplace = True)\n",
    "\n",
    "    return df\n"
   ]
  },
  {
   "cell_type": "code",
   "execution_count": 5,
   "metadata": {},
   "outputs": [
    {
     "data": {
      "text/html": [
       "<div>\n",
       "<style scoped>\n",
       "    .dataframe tbody tr th:only-of-type {\n",
       "        vertical-align: middle;\n",
       "    }\n",
       "\n",
       "    .dataframe tbody tr th {\n",
       "        vertical-align: top;\n",
       "    }\n",
       "\n",
       "    .dataframe thead th {\n",
       "        text-align: right;\n",
       "    }\n",
       "</style>\n",
       "<table border=\"1\" class=\"dataframe\">\n",
       "  <thead>\n",
       "    <tr style=\"text-align: right;\">\n",
       "      <th></th>\n",
       "      <th>state_province</th>\n",
       "      <th>country</th>\n",
       "      <th>web_pages</th>\n",
       "      <th>alpha_two_code</th>\n",
       "      <th>name</th>\n",
       "    </tr>\n",
       "  </thead>\n",
       "  <tbody>\n",
       "    <tr>\n",
       "      <th>0</th>\n",
       "      <td>None</td>\n",
       "      <td>United States</td>\n",
       "      <td>[http://www.marywood.edu]</td>\n",
       "      <td>US</td>\n",
       "      <td>Marywood University</td>\n",
       "    </tr>\n",
       "    <tr>\n",
       "      <th>1</th>\n",
       "      <td>None</td>\n",
       "      <td>United States</td>\n",
       "      <td>[http://www.lindenwood.edu/]</td>\n",
       "      <td>US</td>\n",
       "      <td>Lindenwood University</td>\n",
       "    </tr>\n",
       "    <tr>\n",
       "      <th>2</th>\n",
       "      <td>None</td>\n",
       "      <td>United States</td>\n",
       "      <td>[https://sullivan.edu/]</td>\n",
       "      <td>US</td>\n",
       "      <td>Sullivan University</td>\n",
       "    </tr>\n",
       "    <tr>\n",
       "      <th>3</th>\n",
       "      <td>None</td>\n",
       "      <td>United States</td>\n",
       "      <td>[https://www.fscj.edu/]</td>\n",
       "      <td>US</td>\n",
       "      <td>Florida State College at Jacksonville</td>\n",
       "    </tr>\n",
       "    <tr>\n",
       "      <th>4</th>\n",
       "      <td>None</td>\n",
       "      <td>United States</td>\n",
       "      <td>[https://www.xavier.edu/]</td>\n",
       "      <td>US</td>\n",
       "      <td>Xavier University</td>\n",
       "    </tr>\n",
       "  </tbody>\n",
       "</table>\n",
       "</div>"
      ],
      "text/plain": [
       "  state_province        country                     web_pages alpha_two_code  \\\n",
       "0           None  United States     [http://www.marywood.edu]             US   \n",
       "1           None  United States  [http://www.lindenwood.edu/]             US   \n",
       "2           None  United States       [https://sullivan.edu/]             US   \n",
       "3           None  United States       [https://www.fscj.edu/]             US   \n",
       "4           None  United States     [https://www.xavier.edu/]             US   \n",
       "\n",
       "                                    name  \n",
       "0                    Marywood University  \n",
       "1                  Lindenwood University  \n",
       "2                    Sullivan University  \n",
       "3  Florida State College at Jacksonville  \n",
       "4                      Xavier University  "
      ]
     },
     "execution_count": 5,
     "metadata": {},
     "output_type": "execute_result"
    }
   ],
   "source": [
    "homogeneizar_columnas(df_universidades, 'domains').head()"
   ]
  },
  {
   "cell_type": "markdown",
   "metadata": {},
   "source": [
    "*Hemos observado que algunos registros de la columna name contienen comillas que posteriormente dificultarán la inserción de datos, las eliminaremos.*"
   ]
  },
  {
   "cell_type": "code",
   "execution_count": 6,
   "metadata": {},
   "outputs": [],
   "source": [
    "def limpiar_comillas(df, col):\n",
    "\n",
    "    \"\"\"Elimina las comillas de los registros de la columna que se le indique.\n",
    "    Args:\n",
    "        df: dataframe original.\n",
    "        col: columna sobre la que queremos eliminar las comillas.\n",
    "    Returns:\n",
    "        df: dataframe con la columna sin comillas.\n",
    "    \"\"\"\n",
    "            \n",
    "    return df[col].str.replace('\"', '').str.replace(\"'\", \"\")"
   ]
  },
  {
   "cell_type": "code",
   "execution_count": 7,
   "metadata": {},
   "outputs": [],
   "source": [
    "df_universidades['name'] = limpiar_comillas(df_universidades, 'name')"
   ]
  },
  {
   "cell_type": "markdown",
   "metadata": {},
   "source": [
    "3. Si exploramos la columna de web_pages, nos daremos cuenta que hay universidades, como por ejemplo la Universidad de \"Cégep de Saint-Jérôme\" de Canadá que en su columna de web_pages tiene más de un valor dentro de la lista. Esto es poco práctico y puede llegar a no tener sentido. el objetivo de este ejericio es que usando el método explode de pandas separéis cada elemento de la lista en una fila nueva. "
   ]
  },
  {
   "cell_type": "code",
   "execution_count": 8,
   "metadata": {},
   "outputs": [],
   "source": [
    "def aplicar_explode(df, col):\n",
    "\n",
    "    \"\"\"Aplica método explode a columnas con más de un valor por registro.\n",
    "    Args:\n",
    "        df: dataframe original.\n",
    "        col: col a aplicar explode, parámetro por defecto.\n",
    "    Returns:\n",
    "        df: dataframe modificado.\n",
    "    \"\"\"\n",
    "    \n",
    "    return df.explode(col, ignore_index= True)"
   ]
  },
  {
   "cell_type": "code",
   "execution_count": 9,
   "metadata": {},
   "outputs": [],
   "source": [
    "df_universidades = aplicar_explode(df_universidades, 'web_pages')"
   ]
  },
  {
   "cell_type": "code",
   "execution_count": 10,
   "metadata": {},
   "outputs": [
    {
     "data": {
      "text/html": [
       "<div>\n",
       "<style scoped>\n",
       "    .dataframe tbody tr th:only-of-type {\n",
       "        vertical-align: middle;\n",
       "    }\n",
       "\n",
       "    .dataframe tbody tr th {\n",
       "        vertical-align: top;\n",
       "    }\n",
       "\n",
       "    .dataframe thead th {\n",
       "        text-align: right;\n",
       "    }\n",
       "</style>\n",
       "<table border=\"1\" class=\"dataframe\">\n",
       "  <thead>\n",
       "    <tr style=\"text-align: right;\">\n",
       "      <th></th>\n",
       "      <th>state_province</th>\n",
       "      <th>country</th>\n",
       "      <th>web_pages</th>\n",
       "      <th>alpha_two_code</th>\n",
       "      <th>name</th>\n",
       "    </tr>\n",
       "  </thead>\n",
       "  <tbody>\n",
       "    <tr>\n",
       "      <th>2278</th>\n",
       "      <td>Quebec</td>\n",
       "      <td>Canada</td>\n",
       "      <td>https://www.cstj.qc.ca</td>\n",
       "      <td>CA</td>\n",
       "      <td>Cégep de Saint-Jérôme</td>\n",
       "    </tr>\n",
       "    <tr>\n",
       "      <th>2279</th>\n",
       "      <td>Quebec</td>\n",
       "      <td>Canada</td>\n",
       "      <td>https://ccmt.cstj.qc.ca</td>\n",
       "      <td>CA</td>\n",
       "      <td>Cégep de Saint-Jérôme</td>\n",
       "    </tr>\n",
       "    <tr>\n",
       "      <th>2280</th>\n",
       "      <td>Quebec</td>\n",
       "      <td>Canada</td>\n",
       "      <td>https://ccml.cstj.qc.ca</td>\n",
       "      <td>CA</td>\n",
       "      <td>Cégep de Saint-Jérôme</td>\n",
       "    </tr>\n",
       "  </tbody>\n",
       "</table>\n",
       "</div>"
      ],
      "text/plain": [
       "     state_province country                web_pages alpha_two_code  \\\n",
       "2278         Quebec  Canada   https://www.cstj.qc.ca             CA   \n",
       "2279         Quebec  Canada  https://ccmt.cstj.qc.ca             CA   \n",
       "2280         Quebec  Canada  https://ccml.cstj.qc.ca             CA   \n",
       "\n",
       "                       name  \n",
       "2278  Cégep de Saint-Jérôme  \n",
       "2279  Cégep de Saint-Jérôme  \n",
       "2280  Cégep de Saint-Jérôme  "
      ]
     },
     "execution_count": 10,
     "metadata": {},
     "output_type": "execute_result"
    }
   ],
   "source": [
    "df_universidades[df_universidades['name'] == 'Cégep de Saint-Jérôme']"
   ]
  },
  {
   "cell_type": "markdown",
   "metadata": {},
   "source": [
    "4. Una vez hayáis realizado el explode, chequead si tenéis duplicados basándonos unicamente en el nombre de la universidad, en caso de que si, eliminandlos."
   ]
  },
  {
   "cell_type": "code",
   "execution_count": 11,
   "metadata": {},
   "outputs": [],
   "source": [
    "def eliminar_duplicados(df, col):\n",
    "\n",
    "    \"\"\"Elimina las filas duplicadas en base a una columna.\n",
    "\n",
    "    Args:\n",
    "        df: dataframe.\n",
    "        col: columna sobre la que buscar duplicados.\n",
    "\n",
    "    Returns:\n",
    "        df: dataframe sin las filas duplicadas.\n",
    "    \"\"\"\n",
    "\n",
    "    if df.duplicated([col]).sum() > 0:\n",
    "        print(f'Tenemos {df.duplicated([col]).sum()} duplicados en la columna \"{col}\", los eliminaremos.')\n",
    "        return df.drop_duplicates(subset = col, inplace = True, ignore_index = True)\n",
    "    \n",
    "    else:\n",
    "        print(f'No tenemos duplicados en la columna {col}.')"
   ]
  },
  {
   "cell_type": "code",
   "execution_count": 12,
   "metadata": {},
   "outputs": [
    {
     "name": "stdout",
     "output_type": "stream",
     "text": [
      "Tenemos 26 duplicados en la columna \"name\", los eliminaremos.\n"
     ]
    }
   ],
   "source": [
    "eliminar_duplicados(df_universidades, 'name')"
   ]
  },
  {
   "cell_type": "markdown",
   "metadata": {},
   "source": [
    "5. Si exploramos la columna de state_province veremos que hay universidades cuyo valor para esta columna es None. Cread una función para reemplazar los None por nulos de numpy."
   ]
  },
  {
   "cell_type": "code",
   "execution_count": 13,
   "metadata": {},
   "outputs": [
    {
     "data": {
      "text/plain": [
       "array([None, 'Pennsylvania', 'Texas', 'Utah', 'NV', 'Iowa', 'VA', 'TX',\n",
       "       'Indiana', 'Colorado', 'Ohio', 'IN', 'New York', 'CA', 'Illinois',\n",
       "       'New Hampshire', 'North Carolina', 'South Carolina', 'Virginia',\n",
       "       'Washington', 'Missouri', 'California', 'NY', 'ND', 'MI',\n",
       "       'Florida', 'Michigan', 'GA', 'New York, NY', 'Maine', 'Quebec',\n",
       "       'Ontario', 'Nova Scotia', 'British Columbia', 'Alberta',\n",
       "       'Manitoba', 'New Brunswick', 'Saskatchewan',\n",
       "       'Newfoundland and Labrador', 'Prince Edward Island', 'Yukon',\n",
       "       'Buenos Aires', 'Ciudad Autónoma de Buenos Aires', 'Entre Ríos',\n",
       "       'Salta', 'Córdoba', 'Mendoza', 'Santa Fé', 'Santiago Del Estero',\n",
       "       'Misiones', 'Catamarca', 'Formosa', 'Jujuy', 'La Rioja',\n",
       "       'La Pampa', 'San Juan', 'San Luis', 'Tucumán'], dtype=object)"
      ]
     },
     "execution_count": 13,
     "metadata": {},
     "output_type": "execute_result"
    }
   ],
   "source": [
    "df_universidades['state_province'].unique()"
   ]
  },
  {
   "cell_type": "code",
   "execution_count": 14,
   "metadata": {},
   "outputs": [],
   "source": [
    "def convertir_a_nan(valor):\n",
    "    \"\"\"convierte los valores None a np.nan.\n",
    "\n",
    "    Args:\n",
    "        valor (str): valor None\n",
    "\n",
    "    Returns:\n",
    "        valor (np.nan): valor np.nan\n",
    "    \"\"\"\n",
    "\n",
    "    if valor == None:\n",
    "        return np.nan\n",
    "    else:\n",
    "        return valor"
   ]
  },
  {
   "cell_type": "code",
   "execution_count": 15,
   "metadata": {},
   "outputs": [],
   "source": [
    "#aplicamos un apply para que modifique todos los registros de la columna\n",
    "df_universidades['state_province'] = (df_universidades['state_province'].apply(convertir_a_nan))"
   ]
  },
  {
   "cell_type": "code",
   "execution_count": 16,
   "metadata": {},
   "outputs": [
    {
     "data": {
      "text/html": [
       "<div>\n",
       "<style scoped>\n",
       "    .dataframe tbody tr th:only-of-type {\n",
       "        vertical-align: middle;\n",
       "    }\n",
       "\n",
       "    .dataframe tbody tr th {\n",
       "        vertical-align: top;\n",
       "    }\n",
       "\n",
       "    .dataframe thead th {\n",
       "        text-align: right;\n",
       "    }\n",
       "</style>\n",
       "<table border=\"1\" class=\"dataframe\">\n",
       "  <thead>\n",
       "    <tr style=\"text-align: right;\">\n",
       "      <th></th>\n",
       "      <th>state_province</th>\n",
       "      <th>country</th>\n",
       "      <th>web_pages</th>\n",
       "      <th>alpha_two_code</th>\n",
       "      <th>name</th>\n",
       "    </tr>\n",
       "  </thead>\n",
       "  <tbody>\n",
       "    <tr>\n",
       "      <th>0</th>\n",
       "      <td>NaN</td>\n",
       "      <td>United States</td>\n",
       "      <td>http://www.marywood.edu</td>\n",
       "      <td>US</td>\n",
       "      <td>Marywood University</td>\n",
       "    </tr>\n",
       "    <tr>\n",
       "      <th>1</th>\n",
       "      <td>NaN</td>\n",
       "      <td>United States</td>\n",
       "      <td>http://www.lindenwood.edu/</td>\n",
       "      <td>US</td>\n",
       "      <td>Lindenwood University</td>\n",
       "    </tr>\n",
       "    <tr>\n",
       "      <th>2</th>\n",
       "      <td>NaN</td>\n",
       "      <td>United States</td>\n",
       "      <td>https://sullivan.edu/</td>\n",
       "      <td>US</td>\n",
       "      <td>Sullivan University</td>\n",
       "    </tr>\n",
       "    <tr>\n",
       "      <th>3</th>\n",
       "      <td>NaN</td>\n",
       "      <td>United States</td>\n",
       "      <td>https://www.fscj.edu/</td>\n",
       "      <td>US</td>\n",
       "      <td>Florida State College at Jacksonville</td>\n",
       "    </tr>\n",
       "    <tr>\n",
       "      <th>4</th>\n",
       "      <td>NaN</td>\n",
       "      <td>United States</td>\n",
       "      <td>https://www.xavier.edu/</td>\n",
       "      <td>US</td>\n",
       "      <td>Xavier University</td>\n",
       "    </tr>\n",
       "  </tbody>\n",
       "</table>\n",
       "</div>"
      ],
      "text/plain": [
       "  state_province        country                   web_pages alpha_two_code  \\\n",
       "0            NaN  United States     http://www.marywood.edu             US   \n",
       "1            NaN  United States  http://www.lindenwood.edu/             US   \n",
       "2            NaN  United States       https://sullivan.edu/             US   \n",
       "3            NaN  United States       https://www.fscj.edu/             US   \n",
       "4            NaN  United States     https://www.xavier.edu/             US   \n",
       "\n",
       "                                    name  \n",
       "0                    Marywood University  \n",
       "1                  Lindenwood University  \n",
       "2                    Sullivan University  \n",
       "3  Florida State College at Jacksonville  \n",
       "4                      Xavier University  "
      ]
     },
     "execution_count": 16,
     "metadata": {},
     "output_type": "execute_result"
    }
   ],
   "source": [
    "df_universidades.head()"
   ]
  },
  {
   "cell_type": "markdown",
   "metadata": {},
   "source": [
    "6. Después del último cambio, os habréis dado cuenta que tenemos muchos valores nulos dentro de la columna de state_province, por lo que nuestro jefe nos pide que reemplacemos esos nulos por \"Unknow\". No nos piden ningún método especifico, asi que podremos usar el método que queramos."
   ]
  },
  {
   "cell_type": "code",
   "execution_count": 17,
   "metadata": {},
   "outputs": [
    {
     "data": {
      "text/html": [
       "<div>\n",
       "<style scoped>\n",
       "    .dataframe tbody tr th:only-of-type {\n",
       "        vertical-align: middle;\n",
       "    }\n",
       "\n",
       "    .dataframe tbody tr th {\n",
       "        vertical-align: top;\n",
       "    }\n",
       "\n",
       "    .dataframe thead th {\n",
       "        text-align: right;\n",
       "    }\n",
       "</style>\n",
       "<table border=\"1\" class=\"dataframe\">\n",
       "  <thead>\n",
       "    <tr style=\"text-align: right;\">\n",
       "      <th></th>\n",
       "      <th>missing</th>\n",
       "      <th>total</th>\n",
       "      <th>percent</th>\n",
       "    </tr>\n",
       "  </thead>\n",
       "  <tbody>\n",
       "    <tr>\n",
       "      <th>state_province</th>\n",
       "      <td>2204</td>\n",
       "      <td>2492</td>\n",
       "      <td>88.443018</td>\n",
       "    </tr>\n",
       "    <tr>\n",
       "      <th>country</th>\n",
       "      <td>0</td>\n",
       "      <td>2492</td>\n",
       "      <td>0.000000</td>\n",
       "    </tr>\n",
       "    <tr>\n",
       "      <th>web_pages</th>\n",
       "      <td>0</td>\n",
       "      <td>2492</td>\n",
       "      <td>0.000000</td>\n",
       "    </tr>\n",
       "    <tr>\n",
       "      <th>alpha_two_code</th>\n",
       "      <td>0</td>\n",
       "      <td>2492</td>\n",
       "      <td>0.000000</td>\n",
       "    </tr>\n",
       "    <tr>\n",
       "      <th>name</th>\n",
       "      <td>0</td>\n",
       "      <td>2492</td>\n",
       "      <td>0.000000</td>\n",
       "    </tr>\n",
       "  </tbody>\n",
       "</table>\n",
       "</div>"
      ],
      "text/plain": [
       "                missing  total    percent\n",
       "state_province     2204   2492  88.443018\n",
       "country               0   2492   0.000000\n",
       "web_pages             0   2492   0.000000\n",
       "alpha_two_code        0   2492   0.000000\n",
       "name                  0   2492   0.000000"
      ]
     },
     "execution_count": 17,
     "metadata": {},
     "output_type": "execute_result"
    }
   ],
   "source": [
    "df_universidades.stb.missing()"
   ]
  },
  {
   "cell_type": "code",
   "execution_count": 18,
   "metadata": {},
   "outputs": [],
   "source": [
    "def imputar_nulos(df, col):\n",
    "\n",
    "    \"\"\"convierte los valores nulos al valor de string 'Unknow'.\n",
    "\n",
    "    Args:\n",
    "        df (df): dataframe.\n",
    "        col (col): columna sobre la que queremos imputar los valores nulos.\n",
    "\n",
    "    Returns:\n",
    "        df: dataframe con nulos imputados.\n",
    "    \"\"\"\n",
    "    \n",
    "    return df[col].replace(np.nan, 'Unknow', inplace = True)"
   ]
  },
  {
   "cell_type": "code",
   "execution_count": 19,
   "metadata": {},
   "outputs": [],
   "source": [
    "imputar_nulos(df_universidades, 'state_province')"
   ]
  },
  {
   "cell_type": "code",
   "execution_count": 20,
   "metadata": {},
   "outputs": [
    {
     "data": {
      "text/html": [
       "<div>\n",
       "<style scoped>\n",
       "    .dataframe tbody tr th:only-of-type {\n",
       "        vertical-align: middle;\n",
       "    }\n",
       "\n",
       "    .dataframe tbody tr th {\n",
       "        vertical-align: top;\n",
       "    }\n",
       "\n",
       "    .dataframe thead th {\n",
       "        text-align: right;\n",
       "    }\n",
       "</style>\n",
       "<table border=\"1\" class=\"dataframe\">\n",
       "  <thead>\n",
       "    <tr style=\"text-align: right;\">\n",
       "      <th></th>\n",
       "      <th>missing</th>\n",
       "      <th>total</th>\n",
       "      <th>percent</th>\n",
       "    </tr>\n",
       "  </thead>\n",
       "  <tbody>\n",
       "    <tr>\n",
       "      <th>state_province</th>\n",
       "      <td>0</td>\n",
       "      <td>2492</td>\n",
       "      <td>0.0</td>\n",
       "    </tr>\n",
       "    <tr>\n",
       "      <th>country</th>\n",
       "      <td>0</td>\n",
       "      <td>2492</td>\n",
       "      <td>0.0</td>\n",
       "    </tr>\n",
       "    <tr>\n",
       "      <th>web_pages</th>\n",
       "      <td>0</td>\n",
       "      <td>2492</td>\n",
       "      <td>0.0</td>\n",
       "    </tr>\n",
       "    <tr>\n",
       "      <th>alpha_two_code</th>\n",
       "      <td>0</td>\n",
       "      <td>2492</td>\n",
       "      <td>0.0</td>\n",
       "    </tr>\n",
       "    <tr>\n",
       "      <th>name</th>\n",
       "      <td>0</td>\n",
       "      <td>2492</td>\n",
       "      <td>0.0</td>\n",
       "    </tr>\n",
       "  </tbody>\n",
       "</table>\n",
       "</div>"
      ],
      "text/plain": [
       "                missing  total  percent\n",
       "state_province        0   2492      0.0\n",
       "country               0   2492      0.0\n",
       "web_pages             0   2492      0.0\n",
       "alpha_two_code        0   2492      0.0\n",
       "name                  0   2492      0.0"
      ]
     },
     "execution_count": 20,
     "metadata": {},
     "output_type": "execute_result"
    }
   ],
   "source": [
    "df_universidades.stb.missing()"
   ]
  },
  {
   "cell_type": "markdown",
   "metadata": {},
   "source": [
    "7. Ahora nuestros jefes nos piden que saquemos las coordenadas de las provincias donde están ubicadas las universidades. Para eso nos piden que usemos la librería de geopy que aprendimos el día del repaso. Para desarrollar este ejercicio deberéis: \n",
    "\n",
    "- Sacar los valores únicos de la columna state_province."
   ]
  },
  {
   "cell_type": "code",
   "execution_count": 21,
   "metadata": {},
   "outputs": [
    {
     "data": {
      "text/plain": [
       "array(['Unknow', 'Pennsylvania', 'Texas', 'Utah', 'NV', 'Iowa', 'VA',\n",
       "       'TX', 'Indiana', 'Colorado', 'Ohio', 'IN', 'New York', 'CA',\n",
       "       'Illinois', 'New Hampshire', 'North Carolina', 'South Carolina',\n",
       "       'Virginia', 'Washington', 'Missouri', 'California', 'NY', 'ND',\n",
       "       'MI', 'Florida', 'Michigan', 'GA', 'New York, NY', 'Maine',\n",
       "       'Quebec', 'Ontario', 'Nova Scotia', 'British Columbia', 'Alberta',\n",
       "       'Manitoba', 'New Brunswick', 'Saskatchewan',\n",
       "       'Newfoundland and Labrador', 'Prince Edward Island', 'Yukon',\n",
       "       'Buenos Aires', 'Ciudad Autónoma de Buenos Aires', 'Entre Ríos',\n",
       "       'Salta', 'Córdoba', 'Mendoza', 'Santa Fé', 'Santiago Del Estero',\n",
       "       'Misiones', 'Catamarca', 'Formosa', 'Jujuy', 'La Rioja',\n",
       "       'La Pampa', 'San Juan', 'San Luis', 'Tucumán'], dtype=object)"
      ]
     },
     "execution_count": 21,
     "metadata": {},
     "output_type": "execute_result"
    }
   ],
   "source": [
    "df_universidades['state_province'].unique()"
   ]
  },
  {
   "cell_type": "markdown",
   "metadata": {},
   "source": [
    "- Algunos de los valores que tenemos están con siglas, y deberéis reemplazarlos:"
   ]
  },
  {
   "cell_type": "code",
   "execution_count": 22,
   "metadata": {},
   "outputs": [],
   "source": [
    "#creamos un diccionario donde las keys son los valores originales y los values los valores por los que los queremos cambiar.\n",
    "dicc_estados = {\n",
    "    'NV' : 'Nevada',\n",
    "    'TX' : 'Texas',\n",
    "    'IN' : 'Indianapolis',\n",
    "    'CA' : 'California',\n",
    "    'VA' : 'Virginia',\n",
    "    'NY' : 'New York',\n",
    "    'MI' : 'Michigan', \n",
    "    'GA' : 'Georgia', \n",
    "    'ND' : 'North Dakota', \n",
    "    'New York, NY' : 'New York', \n",
    "    'Ciudad Autónoma de Buenos Aires' : 'Buenos Aires'}"
   ]
  },
  {
   "cell_type": "code",
   "execution_count": 23,
   "metadata": {},
   "outputs": [],
   "source": [
    "#aplicamos un apply con una lambda que utiliza un método de diccionario para modificar estos valores\n",
    "df_universidades[\"state_province\"] = df_universidades['state_province'].apply(lambda estado: dicc_estados.get(estado, estado))"
   ]
  },
  {
   "cell_type": "code",
   "execution_count": 24,
   "metadata": {},
   "outputs": [
    {
     "data": {
      "text/plain": [
       "array(['Unknow', 'Pennsylvania', 'Texas', 'Utah', 'Nevada', 'Iowa',\n",
       "       'Virginia', 'Indiana', 'Colorado', 'Ohio', 'Indianapolis',\n",
       "       'New York', 'California', 'Illinois', 'New Hampshire',\n",
       "       'North Carolina', 'South Carolina', 'Washington', 'Missouri',\n",
       "       'North Dakota', 'Michigan', 'Florida', 'Georgia', 'Maine',\n",
       "       'Quebec', 'Ontario', 'Nova Scotia', 'British Columbia', 'Alberta',\n",
       "       'Manitoba', 'New Brunswick', 'Saskatchewan',\n",
       "       'Newfoundland and Labrador', 'Prince Edward Island', 'Yukon',\n",
       "       'Buenos Aires', 'Entre Ríos', 'Salta', 'Córdoba', 'Mendoza',\n",
       "       'Santa Fé', 'Santiago Del Estero', 'Misiones', 'Catamarca',\n",
       "       'Formosa', 'Jujuy', 'La Rioja', 'La Pampa', 'San Juan', 'San Luis',\n",
       "       'Tucumán'], dtype=object)"
      ]
     },
     "execution_count": 24,
     "metadata": {},
     "output_type": "execute_result"
    }
   ],
   "source": [
    "df_universidades['state_province'].unique()"
   ]
  },
  {
   "cell_type": "markdown",
   "metadata": {},
   "source": [
    "- Una vez realizados los pasos anteriores, crea una lista con los valores únicos de las provincias de las universidades."
   ]
  },
  {
   "cell_type": "code",
   "execution_count": 25,
   "metadata": {},
   "outputs": [],
   "source": [
    "lista_estados = df_universidades['state_province'].unique().tolist()"
   ]
  },
  {
   "cell_type": "markdown",
   "metadata": {},
   "source": [
    "- Usando la API de geopy, extraed la latitud y la longitud de cada una de las provincias y almacenad los resultados en un dataframe."
   ]
  },
  {
   "cell_type": "code",
   "execution_count": 26,
   "metadata": {},
   "outputs": [],
   "source": [
    "def sacar_latitud_longitud_geopy(lista):\n",
    "\n",
    "    \"\"\"Usando la librería Geopy, obtiene la latitud y la longitud de una lista de provincias que\n",
    "    le indiquemos, con ello crea un dataframe con las columnas provincia, latitud y longitud.\n",
    "    Si la provincia es desconocida, devuelve un valor nulo para latitud y longitud.\n",
    "    Args:\n",
    "        lista (list): lista con localizaciones.\n",
    "    Returns:\n",
    "        df (df): dataframe de 3 columnas (provincia, latitud y longitud).\n",
    "    \"\"\"\n",
    "\n",
    "    lista_latitud = []\n",
    "    lista_longitud = []\n",
    "\n",
    "    for estado in lista:\n",
    "\n",
    "        if estado != 'Unknow': #si el estado no es desconocido, le pedimos que nos de su latitud y longitud\n",
    "            geo = Nominatim(user_agent = 'Natalia')\n",
    "            localizacion = geo.geocode(estado)\n",
    "            lista_latitud.append(localizacion.latitude)\n",
    "            lista_longitud.append(localizacion.longitude)\n",
    "    \n",
    "        else: # en caso de no tener estado, pedimos que nos devuelva nulos\n",
    "            lista_latitud.append(np.nan)\n",
    "            lista_longitud.append(np.nan)\n",
    "\n",
    "    #creamos un diccionario para crear un df, donde las keys serán las columnas y los values los datos que hemos obtenido con la libreria geopy\n",
    "    diccionario = {\n",
    "        'state_province' : lista,\n",
    "        'latitude' : lista_latitud,\n",
    "        'longitude' : lista_longitud\n",
    "        }\n",
    "\n",
    "    #lo guardamos para tenerlo a mano si la librería falla\n",
    "    df = pd.DataFrame(diccionario)\n",
    "    df.to_csv('../data/coordenadas.csv') \n",
    "\n",
    "    return df\n"
   ]
  },
  {
   "cell_type": "code",
   "execution_count": 27,
   "metadata": {},
   "outputs": [],
   "source": [
    "df_geopy = sacar_latitud_longitud_geopy(lista_estados)"
   ]
  },
  {
   "cell_type": "code",
   "execution_count": 28,
   "metadata": {},
   "outputs": [],
   "source": [
    "def abrir_latitud_longitud_fichero():\n",
    "\n",
    "    \"\"\"Abre el archivo guardado en el anterior método. Este método está pensado para poder trabajar con unos datos\n",
    "    extraídos previamente de la librería geopy en caso de que en el momento actual la librería no funcione bien.\n",
    "    Args:\n",
    "        No recibe.\n",
    "    Returns:\n",
    "        df (df): dataframe de 3 columnas guardado.\n",
    "    \"\"\"       \n",
    "    \n",
    "    return pd.read_csv('../data/coordenadas.csv', index_col = 0)"
   ]
  },
  {
   "cell_type": "code",
   "execution_count": 29,
   "metadata": {},
   "outputs": [],
   "source": [
    "df_coordenadas = abrir_latitud_longitud_fichero()"
   ]
  },
  {
   "cell_type": "markdown",
   "metadata": {},
   "source": [
    "- Una vez que tengáis los datos del ejercicio anterior en un dataframe, unidlo con el de las universidades que hemos sacado de la API."
   ]
  },
  {
   "cell_type": "code",
   "execution_count": 32,
   "metadata": {},
   "outputs": [],
   "source": [
    "def mergear_dfs(df1, df2, col):\n",
    "\n",
    "    \"\"\"Mergea los 2 dataframes creados con esta clase.\n",
    "    Args:\n",
    "        df1 (df): primer dataframe a unir.\n",
    "        df2 (df): segundo dataframe a unir.\n",
    "        col (df): columna por la que queremos unir los dataframes.\n",
    "    Returns:\n",
    "        df (df): dataframe unido.\n",
    "    \"\"\"\n",
    "\n",
    "    return df1.merge(df2, on = col)"
   ]
  },
  {
   "cell_type": "code",
   "execution_count": 33,
   "metadata": {},
   "outputs": [],
   "source": [
    "df_unido = mergear_dfs(df_universidades, df_coordenadas, 'state_province')"
   ]
  },
  {
   "cell_type": "markdown",
   "metadata": {},
   "source": [
    "8. Crea una BBDD en mysql que contenga las siguientes tablas:\n",
    "\n",
    "- Tabla países.\n",
    "\n",
    "- Tabla universidades.\n"
   ]
  },
  {
   "cell_type": "code",
   "execution_count": 34,
   "metadata": {},
   "outputs": [],
   "source": [
    "def crear_bbdd(nombre_bbdd):\n",
    "\n",
    "    \"\"\"Usando mysql.connector, crea en MySQL una base de datos.\n",
    "\n",
    "    Args:\n",
    "        nombre de la base de datos (str): el nombre que queremos poner a nuestra base de datos.\n",
    "\n",
    "    Returns:\n",
    "        No tiene. Crea directamente la base de datos en MySQL.\n",
    "    \"\"\"\n",
    "\n",
    "    conexion = mysql.connector.connect(\n",
    "                                host=\"localhost\",\n",
    "                                user=\"root\",\n",
    "                                password= os.getenv('password'))\n",
    "    \n",
    "    mycursor = conexion.cursor()\n",
    "\n",
    "    try:\n",
    "        mycursor.execute(f\"CREATE DATABASE IF NOT EXISTS {nombre_bbdd};\")\n",
    "        conexion.close()\n",
    "\n",
    "    # en caso de que no podamos ejecutar la query pedimos que nos devuelva un error para saber en qué nos estamos equivocando\n",
    "    except mysql.connector.Error as err:\n",
    "        print(err)\n",
    "        print(\"Error Code:\", err.errno)\n",
    "        print(\"SQLSTATE\", err.sqlstate)\n",
    "        print(\"Message\", err.msg)\n",
    "        conexion.close()"
   ]
  },
  {
   "cell_type": "code",
   "execution_count": 35,
   "metadata": {},
   "outputs": [],
   "source": [
    "crear_bbdd('Universidades')"
   ]
  },
  {
   "cell_type": "code",
   "execution_count": 36,
   "metadata": {},
   "outputs": [],
   "source": [
    "def crear_tabla(nombre_bbdd, query):\n",
    "\n",
    "    \"\"\"Usando mysql.connector, crea en MySQL una tabla en una base de datos.\n",
    "\n",
    "    Args:\n",
    "        nombre de la base de datos (str): la base de datos donde queremos crear nuestra tabla.\n",
    "        consulta (str): la consulta con la que creamos la tabla.\n",
    "\n",
    "    Returns:\n",
    "        No tiene. Crea directamente la tabla en MySQL.\n",
    "    \"\"\"\n",
    "    \n",
    "    conexion = mysql.connector.connect(\n",
    "                                user='root',\n",
    "                                password = os.getenv('password'),\n",
    "                                host='127.0.0.1',\n",
    "                                database=f\"{nombre_bbdd}\")  \n",
    "\n",
    "    mycursor = conexion.cursor()\n",
    "    \n",
    "    try: \n",
    "        mycursor.execute(query)\n",
    "        conexion.close()\n",
    "\n",
    "    except mysql.connector.Error as err:\n",
    "        print(err)\n",
    "        print(\"Error Code:\", err.errno)\n",
    "        print(\"SQLSTATE\", err.sqlstate)\n",
    "        print(\"Message\", err.msg)\n",
    "        conexion.close()"
   ]
  },
  {
   "cell_type": "code",
   "execution_count": 37,
   "metadata": {},
   "outputs": [],
   "source": [
    "tabla_paises = '''\n",
    "CREATE TABLE IF NOT EXISTS `Universidades`.`paises` (\n",
    "    `id_estado` INT NOT NULL AUTO_INCREMENT,\n",
    "    `nombre_pais` VARCHAR(45) NOT NULL,\n",
    "    `nombre_provincia` VARCHAR(45),\n",
    "    `latitud` FLOAT,\n",
    "    `longitud`FLOAT,\n",
    "    PRIMARY KEY (`id_estado`));\n",
    "'''\n",
    "\n",
    "tabla_universidades = '''\n",
    "CREATE TABLE IF NOT EXISTS `Universidades`.`universidades` (\n",
    "    `id_universidades` INT NOT NULL AUTO_INCREMENT,\n",
    "    `nombre_universidad` VARCHAR(100) NOT NULL,\n",
    "    `pagina_web` VARCHAR(100),\n",
    "    `paises_id_estado` INT NOT NULL,\n",
    "    PRIMARY KEY (`id_universidades`),\n",
    "    CONSTRAINT `fk_universidades_paises`\n",
    "        FOREIGN KEY (`paises_id_estado`)\n",
    "        REFERENCES `Universidades`.`paises` (`id_estado`));\n",
    "ENGINE = InnoDB;\n",
    "'''"
   ]
  },
  {
   "cell_type": "code",
   "execution_count": 38,
   "metadata": {},
   "outputs": [],
   "source": [
    "crear_tabla('Universidades', tabla_paises)"
   ]
  },
  {
   "cell_type": "code",
   "execution_count": 39,
   "metadata": {},
   "outputs": [],
   "source": [
    "crear_tabla('Universidades', tabla_universidades)"
   ]
  },
  {
   "cell_type": "markdown",
   "metadata": {},
   "source": [
    "BONUS\n",
    "\n",
    "- Introduce los datos en la BBDD de SQL.\n",
    "\n",
    "- Crea una clase con todo el código generado en esta evaluación."
   ]
  },
  {
   "cell_type": "code",
   "execution_count": 40,
   "metadata": {},
   "outputs": [
    {
     "data": {
      "text/html": [
       "<div>\n",
       "<style scoped>\n",
       "    .dataframe tbody tr th:only-of-type {\n",
       "        vertical-align: middle;\n",
       "    }\n",
       "\n",
       "    .dataframe tbody tr th {\n",
       "        vertical-align: top;\n",
       "    }\n",
       "\n",
       "    .dataframe thead th {\n",
       "        text-align: right;\n",
       "    }\n",
       "</style>\n",
       "<table border=\"1\" class=\"dataframe\">\n",
       "  <thead>\n",
       "    <tr style=\"text-align: right;\">\n",
       "      <th></th>\n",
       "      <th>state_province</th>\n",
       "      <th>country</th>\n",
       "      <th>web_pages</th>\n",
       "      <th>alpha_two_code</th>\n",
       "      <th>name</th>\n",
       "      <th>latitude</th>\n",
       "      <th>longitude</th>\n",
       "    </tr>\n",
       "  </thead>\n",
       "  <tbody>\n",
       "    <tr>\n",
       "      <th>0</th>\n",
       "      <td>Unknow</td>\n",
       "      <td>United States</td>\n",
       "      <td>http://www.marywood.edu</td>\n",
       "      <td>US</td>\n",
       "      <td>Marywood University</td>\n",
       "      <td>NaN</td>\n",
       "      <td>NaN</td>\n",
       "    </tr>\n",
       "  </tbody>\n",
       "</table>\n",
       "</div>"
      ],
      "text/plain": [
       "  state_province        country                web_pages alpha_two_code  \\\n",
       "0         Unknow  United States  http://www.marywood.edu             US   \n",
       "\n",
       "                  name  latitude  longitude  \n",
       "0  Marywood University       NaN        NaN  "
      ]
     },
     "execution_count": 40,
     "metadata": {},
     "output_type": "execute_result"
    }
   ],
   "source": [
    "df_unido.head(1)"
   ]
  },
  {
   "cell_type": "code",
   "execution_count": 41,
   "metadata": {},
   "outputs": [],
   "source": [
    "def insertar_datos(nombre_bbdd, query):\n",
    "    \n",
    "    \"\"\"Usando mysql.connector, inserta datos en una tabla de una base de datos.\n",
    "\n",
    "    Args:\n",
    "        nombre de la base de datos (str): la base de datos donde queremos insertar los datos.\n",
    "        consulta (str): la consulta con la que insertamos los datos.\n",
    "\n",
    "    Returns:\n",
    "        No tiene. Inserta los datos directamente en la tabla en MySQL.\n",
    "    \"\"\"\n",
    "    \n",
    "    conexion = mysql.connector.connect(\n",
    "                                user='root',\n",
    "                                password = os.getenv('password'),\n",
    "                                host='127.0.0.1',\n",
    "                                database=f\"{nombre_bbdd}\")  \n",
    "\n",
    "    mycursor = conexion.cursor()\n",
    "\n",
    "    try: \n",
    "        mycursor.execute(query)\n",
    "        conexion.commit() \n",
    "        conexion.close()\n",
    "\n",
    "    # en caso de que no podamos ejecutar la query devuelvenos un error para saber en que nos estamos equivocando\n",
    "    except mysql.connector.Error as err:\n",
    "        print(err)\n",
    "        print(\"Error Code:\", err.errno)\n",
    "        print(\"SQLSTATE\", err.sqlstate)\n",
    "        print(\"Message\", err.msg)\n",
    "        conexion.close()"
   ]
  },
  {
   "cell_type": "code",
   "execution_count": 42,
   "metadata": {},
   "outputs": [],
   "source": [
    "def sacar_id_estado(nombre_bbdd, estado, pais):\n",
    "\n",
    "    \"\"\"Usando mysql.connector, selecciona el id de un estado de nuestra base de datos.\n",
    "\n",
    "    Args:\n",
    "        nombre de la base de datos (str): la base de datos de la que queremos extraer la información.\n",
    "        estado (str): estado del que queremos sacar el id.\n",
    "        pais (str): país al que pertenece el estado del que queremos sacar el id.\n",
    "\n",
    "    Returns:\n",
    "        id (str): el id del estado.\n",
    "    \"\"\"\n",
    "    \n",
    "    cnx = mysql.connector.connect(\n",
    "                                user='root',\n",
    "                                password = os.getenv('password'),\n",
    "                                host='127.0.0.1',\n",
    "                                database=f\"{nombre_bbdd}\")  \n",
    "\n",
    "    mycursor = cnx.cursor()\n",
    "\n",
    "    query_sacar_id = f\"SELECT id_estado FROM paises WHERE nombre_provincia = '{estado}' AND nombre_pais = '{pais}'\"\n",
    "    \n",
    "    # puede que el id de la ciudad que estamos intentando insertar no este en nuestra BBDD, de modo que usaremos un try except para evitar errores\n",
    "    try: \n",
    "        mycursor.execute(query_sacar_id)\n",
    "        id_est = mycursor.fetchall()[0][0]\n",
    "        \n",
    "        return id_est\n",
    "    \n",
    "    except: \n",
    "        return \"Lo siento, no tenemos ese estado en la BBDD y por lo tanto no te podemos dar su id. \""
   ]
  },
  {
   "cell_type": "code",
   "execution_count": 43,
   "metadata": {},
   "outputs": [],
   "source": [
    "for indice, fila in df_unido.iterrows():\n",
    "\n",
    "        latitud = fila['latitude']\n",
    "        longitud = fila['longitude']\n",
    "\n",
    "        if pd.isna(latitud):\n",
    "                latitud = 'NULL'\n",
    "\n",
    "        if pd.isna(longitud):\n",
    "                longitud = 'NULL'\n",
    "\n",
    "        id_estado = sacar_id_estado('Universidades', fila['state_province'],fila['country'])\n",
    "\n",
    "        if type(id_estado) is not int:\n",
    "\n",
    "                insertar_paises = f\"\"\"\n",
    "                        INSERT INTO `Universidades`.`paises` (nombre_pais, nombre_provincia, latitud, longitud) \n",
    "                        VALUES ( \"{fila['country']}\", \"{fila['state_province']}\", {latitud}, {longitud});\n",
    "                        \"\"\"\n",
    "                insertar_datos('Universidades', insertar_paises)\n",
    "        else:\n",
    "                pass"
   ]
  },
  {
   "cell_type": "code",
   "execution_count": 44,
   "metadata": {},
   "outputs": [],
   "source": [
    "for indice, fila in df_unido.iterrows():\n",
    "\n",
    "        id_estado = sacar_id_estado('Universidades', fila['state_province'], fila['country'])\n",
    "        insertar_universidades = f\"\"\"\n",
    "                INSERT INTO `Universidades`.`universidades` (nombre_universidad, pagina_web, paises_id_estado) \n",
    "                VALUES ( \"{fila['name']}\", \"{fila['web_pages']}\", {id_estado});\n",
    "                \"\"\"\n",
    "        \n",
    "        insertar_datos('Universidades', insertar_universidades)"
   ]
  }
 ],
 "metadata": {
  "kernelspec": {
   "display_name": "adalabenv",
   "language": "python",
   "name": "python3"
  },
  "language_info": {
   "codemirror_mode": {
    "name": "ipython",
    "version": 3
   },
   "file_extension": ".py",
   "mimetype": "text/x-python",
   "name": "python",
   "nbconvert_exporter": "python",
   "pygments_lexer": "ipython3",
   "version": "3.10.11"
  },
  "orig_nbformat": 4
 },
 "nbformat": 4,
 "nbformat_minor": 2
}
